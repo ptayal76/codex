{
  "nbformat": 4,
  "nbformat_minor": 0,
  "metadata": {
    "colab": {
      "provenance": []
    },
    "kernelspec": {
      "name": "python3",
      "display_name": "Python 3"
    },
    "language_info": {
      "name": "python"
    }
  },
  "cells": [
    {
      "cell_type": "code",
      "execution_count": 40,
      "metadata": {
        "id": "5j-FxD7y1KHn"
      },
      "outputs": [],
      "source": [
        "import os\n",
        "import csv\n",
        "import json\n",
        "import argparse\n",
        "import requests\n",
        "from calendar import monthrange\n",
        "from datetime import datetime, timedelta"
      ]
    },
    {
      "cell_type": "code",
      "source": [
        "# Customise these values for automation. These can be taken as input args.\n",
        "\n",
        "# start month to capture the metric. Inclusive. Format: '2020-01-01T00:00:00'\n",
        "input_start_date = '2023-06-24T16:16:00'\n",
        "\n",
        "# end month to capture the metric. Exclusive. Format: '2020-03-01T00:00:00'\n",
        "input_end_date = '2024-05-25T16:17:00'\n",
        "\n",
        "# grafana expression params\n",
        "metricName = \"request_duration_seconds\"\n",
        "saasEnv = \"staging|prod\"\n",
        "apiRegex = \".*\"\n",
        "tenantName = \"champagne\"\n",
        "statusCodeRegex = \"4.*|5.*\"\n",
        "\n",
        "# grafana login session cookie. Obtained from browser logged-in session to 'https://thoughtspot.grafana.net/'\n",
        "grafana_session = 'grafana_session=5ecd11e56bfb0d4ceae2e594450e80c7\t'\n",
        "\n",
        "# output directory where collected metric file per year will be saved.\n",
        "output_dir = os.path.join(os.getcwd(), \"data\")\n",
        "\n",
        "# grafana DS API query\n",
        "# req and response format - https://grafana.com/docs/grafana/latest/developers/http_api/data_source/#query-a-data-source\n",
        "url = \"https://thoughtspot.grafana.net/api/ds/query\"\n",
        "\n",
        "# Metric data to be collected. DO NOT MODIFY UNLESS YOU KNOW WHAT YOU ARE DOING!\n",
        "metric_keys = ('time', 'api', 'cluster', 'collection_level', 'error', 'method', 'org_id', 'rel_version', 'saas_env',\n",
        "               'service_name', 'status', 'tenant_id', 'tenant_name', 'duration')"
      ],
      "metadata": {
        "id": "gXVE1I4w1vzP"
      },
      "execution_count": 49,
      "outputs": []
    },
    {
      "cell_type": "code",
      "source": [
        "def parse_args():\n",
        "    parser = argparse.ArgumentParser(description=\"Collect REST API usage metrics from Grafana\")\n",
        "    parser.add_argument('--input_start_date', type=str, default='2024-03-01T00:00:00',\n",
        "                        help='start date for capturing metrics. Format: YYYY-MM-DDTHH:MM:SS')\n",
        "    parser.add_argument('--input_end_date', type=str, default='2024-06-01T00:00:00',\n",
        "                        help='end date for capturing metrics. Format: YYYY-MM-DDTHH:MM:SS')\n",
        "    parser.add_argument('--metricName', type=str, default='request_duration_seconds',\n",
        "                        help='prism: request_duration_seconds, tomcat: http_request_duration_us')\n",
        "    parser.add_argument('--saasEnv', type=str, default='staging|prod',\n",
        "                        help='prod|staging|dev')\n",
        "    parser.add_argument('--apiRegex', type=str, default='.*',\n",
        "                        help='regex to match api path')\n",
        "    parser.add_argument('--tenantName', type=str, default='champagne',\n",
        "                        help='tenant name')\n",
        "    parser.add_argument('--statusCodeRegex', type=str, default='4.*|5.*',\n",
        "                        help='api response status code regex to filter for: 2.*|4.*|5.*')\n",
        "    parser.add_argument('--grafana_session', type=str, default='grafana_session=',\n",
        "                        help='grafana_session=sessionId')\n",
        "    return parser.parse_args()"
      ],
      "metadata": {
        "id": "Al4yLGZkNo2N"
      },
      "execution_count": 42,
      "outputs": []
    },
    {
      "cell_type": "code",
      "source": [
        "def set_vars(args):\n",
        "    global input_start_date, input_end_date, metricName, saasEnv, apiRegex, tenantName, statusCodeRegex, grafana_session\n",
        "    input_start_date = args.input_start_date\n",
        "    input_end_date = args.input_end_date\n",
        "    metricName = args.metricName\n",
        "    saasEnv = args.saasEnv\n",
        "    apiRegex = args.apiRegex\n",
        "    tenantName = args.tenantName\n",
        "    statusCodeRegex = args.statusCodeRegex\n",
        "    grafana_session = args.grafana_session"
      ],
      "metadata": {
        "id": "9XIaCz1jQnbv"
      },
      "execution_count": 43,
      "outputs": []
    },
    {
      "cell_type": "code",
      "source": [
        "def makeQueryDict(queryRefId, queryExpr):\n",
        "    query = {\n",
        "        \"refId\": queryRefId,\n",
        "        \"datasourceId\": 4,\n",
        "        \"expr\": queryExpr,\n",
        "        \"interval\": \"600\",\n",
        "        \"maxDataPoints\": 1000,\n",
        "        \"instant\": False,\n",
        "        \"range\": True,\n",
        "        \"format\": \"table\"\n",
        "    }\n",
        "    return query"
      ],
      "metadata": {
        "id": "NbnYlAlkqAu2"
      },
      "execution_count": 44,
      "outputs": []
    },
    {
      "cell_type": "code",
      "source": [
        "# This method processes list of metric frames into CSV rows\n",
        "def process_api_metric_frames(api_metric_frames_list, csv_writer):\n",
        "    for api_metric_frame in api_metric_frames_list:\n",
        "        timestamp_index = 0\n",
        "        duration_value_index = 1\n",
        "        api_metric_sample = dict.fromkeys(metric_keys, '')\n",
        "\n",
        "        # print(json.dumps(api_metric_frame['schema']['fields'], indent=4))\n",
        "        for field_index, api_metric_frame_field in enumerate(api_metric_frame['schema']['fields']):\n",
        "            if \"Time\" == api_metric_frame_field['name']:\n",
        "                timestamp_index = field_index\n",
        "\n",
        "            if \"labels\" in api_metric_frame_field:\n",
        "                frame_label_value_map = api_metric_frame_field['labels']\n",
        "                # print(json.dumps(frame_label_value_map, indent=4))\n",
        "\n",
        "                if \"api\" in frame_label_value_map:\n",
        "                    api_metric_sample['api'] = frame_label_value_map['api']\n",
        "                if \"cluster\" in frame_label_value_map:\n",
        "                    api_metric_sample['cluster'] = frame_label_value_map['cluster']\n",
        "                if \"collection_level\" in frame_label_value_map:\n",
        "                    api_metric_sample['collection_level'] = frame_label_value_map['collection_level']\n",
        "                if \"error\" in frame_label_value_map:\n",
        "                    api_metric_sample['error'] = frame_label_value_map['error']\n",
        "                if \"method\" in frame_label_value_map:\n",
        "                    api_metric_sample['method'] = frame_label_value_map['method']\n",
        "                if \"org_id\" in frame_label_value_map:\n",
        "                    api_metric_sample['org_id'] = frame_label_value_map['org_id']\n",
        "                if \"rel_version\" in frame_label_value_map:\n",
        "                    api_metric_sample['rel_version'] = frame_label_value_map['rel_version']\n",
        "                if \"saas_env\" in frame_label_value_map:\n",
        "                    api_metric_sample['saas_env'] = frame_label_value_map['saas_env']\n",
        "                if \"service_name\" in frame_label_value_map:\n",
        "                    api_metric_sample['service_name'] = frame_label_value_map['service_name']\n",
        "                if \"status_code\" in frame_label_value_map:\n",
        "                    api_metric_sample['status'] = frame_label_value_map['status_code']\n",
        "                if \"status\" in frame_label_value_map:\n",
        "                    api_metric_sample['status'] = frame_label_value_map['status']\n",
        "                if \"tenant_id\" in frame_label_value_map:\n",
        "                    api_metric_sample['tenant_id'] = frame_label_value_map['tenant_id']\n",
        "                if \"tenant_name\" in frame_label_value_map:\n",
        "                    api_metric_sample['tenant_name'] = frame_label_value_map['tenant_name']\n",
        "\n",
        "        if timestamp_index == 1:\n",
        "            duration_value_index = 0\n",
        "\n",
        "        #print(json.dumps(api_metric_frame['data']['values'], indent=4))\n",
        "        #print(\"timestamp_index\", timestamp_index)\n",
        "        if len(api_metric_frame['data']['values']) > 0:\n",
        "            for item_index, timestamp_value in enumerate(api_metric_frame['data']['values'][timestamp_index]):\n",
        "                api_metric_sample['time'] = datetime.utcfromtimestamp(timestamp_value / 1000.0)\n",
        "                api_metric_sample['duration'] = api_metric_frame['data']['values'][duration_value_index][item_index]\n",
        "\n",
        "        # print(api_metric_sample)\n",
        "        csv_writer.writerow(api_metric_sample)"
      ],
      "metadata": {
        "id": "-VxcPt_z1zVt"
      },
      "execution_count": 45,
      "outputs": []
    },
    {
      "cell_type": "code",
      "source": [
        "# This method collect the api metric usage data from start_time to end_time\n",
        "def collect_api_metric_usage(csv_writer, start_time, end_time, queryList):\n",
        "    print(f'Collecting API metric data FROM \"{start_time}\" TO \"{end_time}\"')\n",
        "\n",
        "    payload = json.dumps({\n",
        "        \"queries\": queryList,\n",
        "        \"from\": start_time,\n",
        "        \"to\": end_time\n",
        "    })\n",
        "    headers = {\n",
        "        'accept': 'application/json, text/plain, */*',\n",
        "        'content-type': 'application/json',\n",
        "        'Cookie': grafana_session\n",
        "    }\n",
        "    response = requests.request(\"POST\", url, headers=headers, data=payload, allow_redirects=False)\n",
        "    result = json.loads(response.text)\n",
        "\n",
        "    if \"results\" not in result:\n",
        "        print(json.dumps(result, indent=4))\n",
        "        exit(1)\n",
        "\n",
        "    for query in queryList:\n",
        "        print(query[\"expr\"])\n",
        "        api_metric_frames_list = result['results'][query['refId']]['frames']\n",
        "        process_api_metric_frames(api_metric_frames_list, csv_writer)"
      ],
      "metadata": {
        "id": "hvJfowfV12qa"
      },
      "execution_count": 46,
      "outputs": []
    },
    {
      "cell_type": "code",
      "source": [
        "def start_rest_api_metric_collection(args):\n",
        "    input_start_datetime = datetime.strptime(input_start_date, '%Y-%m-%dT%H:%M:%S')\n",
        "    # start_datetime = input_start_datetime\n",
        "\n",
        "    input_end_datetime = datetime.strptime(input_end_date, '%Y-%m-%dT%H:%M:%S')\n",
        "    # end_datetime = start_datetime + timedelta(days=monthrange(start_datetime.year, start_datetime.month)[1]) - timedelta(milliseconds=1)\n",
        "\n",
        "    start_time_str = input_start_datetime.strftime(\"%Y-%m-%dT%H:%M:%S.%f\")[:-3] + \"Z\"\n",
        "    end_time_str = input_end_datetime.strftime(\"%Y-%m-%dT%H:%M:%S.%f\")[:-3] + \"Z\"\n",
        "\n",
        "    os.makedirs(output_dir, exist_ok=True)\n",
        "    output_file = f'{output_dir}/{input_start_datetime.year}_{input_start_datetime.month}_to_{input_end_datetime.year}_{input_end_datetime.month}_rest_api_metric.csv'\n",
        "\n",
        "    # file_exists = os.path.isfile(output_file)\n",
        "    with open(output_file, mode='w') as csv_file:\n",
        "        print(\"data save path: \" + output_file)\n",
        "        writer = csv.DictWriter(csv_file, fieldnames=metric_keys, delimiter=',', quotechar='\"',\n",
        "                                quoting=csv.QUOTE_MINIMAL)\n",
        "        writer.writeheader()\n",
        "\n",
        "        # Define your list of queries\n",
        "        queryList = []\n",
        "        queryList.append(\n",
        "            makeQueryDict(\n",
        "                \"prism-public-rest-api-v2-query\",\n",
        "                \"{}{{saas_env=~\\\"{}\\\", api=~\\\"{}\\\", tenant_name=~\\\".*{}.*\\\", quantile=\\\"0.95\\\", status_code=~\\\"{}\\\"}}\".format(metricName, saasEnv, apiRegex, tenantName, statusCodeRegex)))\n",
        "        collect_api_metric_usage(writer, start_time_str, end_time_str, queryList)"
      ],
      "metadata": {
        "id": "6Ki4CNfL15dt"
      },
      "execution_count": 47,
      "outputs": []
    },
    {
      "cell_type": "code",
      "source": [
        "# Program execution entry point\n",
        "if __name__ == '__main__':\n",
        "    args = None\n",
        "    args = parse_args()\n",
        "    set_vars(args)\n",
        "    start_rest_api_metric_collection(args)"
      ],
      "metadata": {
        "colab": {
          "base_uri": "https://localhost:8080/"
        },
        "id": "D-EHQG4n18Ev",
        "outputId": "adfc9b6f-e1ea-4c92-d152-3fa003d03f47"
      },
      "execution_count": 50,
      "outputs": [
        {
          "output_type": "stream",
          "name": "stdout",
          "text": [
            "data save path: /content/data/2023_6_to_2024_5_rest_api_metric.csv\n",
            "Collecting API metric data FROM \"2023-06-24T16:16:00.000Z\" TO \"2024-05-25T16:17:00.000Z\"\n",
            "request_duration_seconds{saas_env=~\"staging|prod\", api=~\".*api/rest/2.0.*\", tenant_name=~\".*champagne.*\", quantile=\"0.95\", status_code=~\"4.*|5.*\"}\n"
          ]
        }
      ]
    },
    {
      "cell_type": "code",
      "source": [],
      "metadata": {
        "id": "Idcj4Q3KMKgI"
      },
      "execution_count": 9,
      "outputs": []
    },
    {
      "cell_type": "code",
      "source": [],
      "metadata": {
        "id": "MpWGJa5UphIJ"
      },
      "execution_count": null,
      "outputs": []
    },
    {
      "cell_type": "code",
      "source": [],
      "metadata": {
        "id": "JqAF8qdGqMW4"
      },
      "execution_count": null,
      "outputs": []
    }
  ]
}